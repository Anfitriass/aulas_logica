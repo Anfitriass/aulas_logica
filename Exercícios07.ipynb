{
 "cells": [
  {
   "cell_type": "markdown",
   "metadata": {},
   "source": [
    "1. Crie uma lista de filmes com 7 filmes a sua escolha, e faça as seguintes operações com ela:\n",
    "\n"
   ]
  },
  {
   "cell_type": "code",
   "execution_count": null,
   "metadata": {},
   "outputs": [],
   "source": [
    "filmes = ['Ereditario👿', 'Interestelar 👨‍🚀', 'Spirit🐎', 'V de vingança 🕵️‍♂️', 'Shrek🧄', 'Fragmentado🤯', 'Panico😱']"
   ]
  },
  {
   "cell_type": "markdown",
   "metadata": {},
   "source": [
    "• Exiba apenas o primeiro o filme da lista"
   ]
  },
  {
   "cell_type": "code",
   "execution_count": null,
   "metadata": {},
   "outputs": [],
   "source": [
    "filmes = ['Ereditario👿', 'Interestelar 👨‍🚀', 'Spirit🐎', 'V de vingança 🕵️‍♂️', 'Shrek🧄', 'Fragmentado🤯', 'Panico😱']\n",
    "print(filmes[0])"
   ]
  },
  {
   "cell_type": "markdown",
   "metadata": {},
   "source": [
    "• Exiba o filme da posição 4"
   ]
  },
  {
   "cell_type": "code",
   "execution_count": null,
   "metadata": {},
   "outputs": [],
   "source": [
    "filmes = ['Ereditario👿', 'Interestelar 👨‍🚀', 'Spirit🐎', 'V de vingança 🕵️‍♂️', 'Shrek🧄', 'Fragmentado🤯', 'Panico😱']\n",
    "print(filmes[4])"
   ]
  },
  {
   "cell_type": "markdown",
   "metadata": {},
   "source": [
    "• Substitua o filme da última posição e exiba a lista"
   ]
  },
  {
   "cell_type": "code",
   "execution_count": null,
   "metadata": {},
   "outputs": [],
   "source": [
    "filmes = ['Ereditario👿', 'Interestelar 👨‍🚀', 'Spirit🐎', 'V de vingança 🕵️‍♂️', 'Shrek🧄', 'Fragmentado🤯', 'Panico😱']\n",
    "filmes[6] = 'Homem-Aranha no Aranhaverso🕷'\n",
    "print(filmes)"
   ]
  },
  {
   "cell_type": "markdown",
   "metadata": {},
   "source": [
    "• Insira um novo filme no final da lista e exiba a lista"
   ]
  },
  {
   "cell_type": "code",
   "execution_count": null,
   "metadata": {},
   "outputs": [],
   "source": [
    "filmes = ['Ereditario👿', 'Interestelar 👨‍🚀', 'Spirit🐎', 'V de vingança 🕵️', 'Shrek🧄', 'Fragmentado🤯', 'Homem-Aranha no Aranhaverso🕷']\n",
    "filmes.append('A Fantástica Fábrica de Chocolate🍫')\n",
    "print(filmes)"
   ]
  },
  {
   "cell_type": "markdown",
   "metadata": {},
   "source": [
    "• Insira um novo filme na posição 5 e exiba a lista"
   ]
  },
  {
   "cell_type": "code",
   "execution_count": null,
   "metadata": {},
   "outputs": [],
   "source": [
    "filmes = ['Ereditario👿', 'Interestelar 👨‍🚀', 'Spirit🐎', 'V de vingança 🕵️', 'Shrek🧄', 'Fragmentado🤯', 'Homem-Aranha no Aranhaverso🕷', 'A Fantástica Fábrica de Chocolate🍫']\n",
    "filmes.insert(5, 'Wonka 👨‍🍳')\n",
    "print(filmes)"
   ]
  },
  {
   "cell_type": "markdown",
   "metadata": {},
   "source": [
    "• Exclua o primeiro filme e exiba a lista"
   ]
  },
  {
   "cell_type": "code",
   "execution_count": null,
   "metadata": {},
   "outputs": [],
   "source": [
    "filmes = ['Ereditario👿', 'Interestelar 👨‍🚀', 'Spirit🐎', 'V de vingança 🕵️', 'Shrek🧄', 'Fragmentado🤯', 'Homem-Aranha no Aranhaverso🕷', 'A Fantástica Fábrica de Chocolate🍫', 'Wonka 👨‍🍳']\n",
    "filmes.pop(0)\n",
    "print(filmes)"
   ]
  },
  {
   "cell_type": "markdown",
   "metadata": {},
   "source": [
    "• Exclua o último filme e exiba a lista"
   ]
  },
  {
   "cell_type": "code",
   "execution_count": null,
   "metadata": {},
   "outputs": [],
   "source": [
    "filmes = ['Interestelar 👨‍🚀', 'Spirit🐎', 'V de vingança 🕵️', 'Shrek🧄', 'Fragmentado🤯', 'Homem-Aranha no Aranhaverso🕷', 'A Fantástica Fábrica de Chocolate🍫', 'Wonka 👨‍🍳']\n",
    "filmes.pop()\n",
    "print(filmes)"
   ]
  },
  {
   "cell_type": "markdown",
   "metadata": {},
   "source": [
    "• Exiba os 3 primeiros filmes da lista"
   ]
  },
  {
   "cell_type": "code",
   "execution_count": null,
   "metadata": {},
   "outputs": [],
   "source": [
    "filmes = ['Interestelar 👨‍🚀', 'Spirit🐎', 'V de vingança 🕵️', 'Shrek🧄', 'Fragmentado🤯', 'Homem-Aranha no Aranhaverso🕷', 'A Fantástica Fábrica de Chocolate🍫']\n",
    "print(filmes[0:3])"
   ]
  },
  {
   "cell_type": "markdown",
   "metadata": {},
   "source": [
    "• Exiba os 4 últimos filmes da lista"
   ]
  },
  {
   "cell_type": "code",
   "execution_count": null,
   "metadata": {},
   "outputs": [],
   "source": [
    "filmes = ['Interestelar 👨‍🚀', 'Spirit🐎', 'V de vingança 🕵️', 'Shrek🧄', 'Fragmentado🤯', 'Homem-Aranha no Aranhaverso🕷', 'A Fantástica Fábrica de Chocolate🍫']\n",
    "print(filmes[3:7])"
   ]
  },
  {
   "cell_type": "markdown",
   "metadata": {},
   "source": [
    "• Exiba a quantidade de filmes atualmente na lista"
   ]
  },
  {
   "cell_type": "code",
   "execution_count": null,
   "metadata": {},
   "outputs": [],
   "source": [
    "filmes = ['Interestelar 👨‍🚀', 'Spirit🐎', 'V de vingança 🕵️', 'Shrek🧄', 'Fragmentado🤯', 'Homem-Aranha no Aranhaverso🕷', 'A Fantástica Fábrica de Chocolate🍫']\n",
    "print(filmes)"
   ]
  },
  {
   "cell_type": "markdown",
   "metadata": {},
   "source": [
    "• Ordene os filmes em ordem decrescente e exiba-os"
   ]
  },
  {
   "cell_type": "code",
   "execution_count": null,
   "metadata": {},
   "outputs": [],
   "source": [
    "filmes = ['Interestelar 👨‍🚀', 'Spirit🐎', 'V de vingança 🕵️', 'Shrek🧄', 'Fragmentado🤯', 'Homem-Aranha no Aranhaverso🕷', 'A Fantástica Fábrica de Chocolate🍫']\n",
    "filmes.reverse()    \n",
    "print(filmes)"
   ]
  },
  {
   "cell_type": "markdown",
   "metadata": {},
   "source": [
    "2. Crie uma lista com os 20 times do campeonato brasileiro de futebol"
   ]
  },
  {
   "cell_type": "code",
   "execution_count": null,
   "metadata": {},
   "outputs": [],
   "source": [
    "times = ['Palmeiras', 'Flamengo', 'Cruzeiro', 'Internacional', 'Fluminense', 'Corinthians', 'Athletico-PR', 'Atlético', 'Fortaleza', 'São Paulo', 'América', 'Botafogo', 'Santos', 'Goiás', 'Red Bull Bragantino', 'Coritiba', 'Cuiabá', 'Grêmio', 'Vasco', 'Bahia'] \n"
   ]
  },
  {
   "cell_type": "markdown",
   "metadata": {},
   "source": [
    "• Exiba o primeiro time da lista como campeão"
   ]
  },
  {
   "cell_type": "code",
   "execution_count": null,
   "metadata": {},
   "outputs": [],
   "source": [
    "times = ['Palmeiras', 'Flamengo', 'Cruzeiro', 'Internacional', 'Fluminense', 'Corinthians', 'Athletico-PR', 'Atlético', 'Fortaleza', 'São Paulo', 'América', 'Botafogo', 'Santos', 'Goiás', 'Red Bull Bragantino', 'Coritiba', 'Cuiabá', 'Grêmio', 'Vasco', 'Bahia'] \n",
    "print(f'{times[0]} é campeão')"
   ]
  },
  {
   "cell_type": "markdown",
   "metadata": {},
   "source": [
    "• Exiba os 4 primeiros times como que irão jogar a libertadores"
   ]
  },
  {
   "cell_type": "code",
   "execution_count": null,
   "metadata": {},
   "outputs": [],
   "source": [
    "times = ['Palmeiras', 'Flamengo', 'Cruzeiro', 'Internacional', 'Fluminense', 'Corinthians', 'Athletico-PR', 'Atlético', 'Fortaleza', 'São Paulo', 'América', 'Botafogo', 'Santos', 'Goiás', 'Red Bull Bragantino', 'Coritiba', 'Cuiabá', 'Grêmio', 'Vasco', 'Bahia'] \n",
    "print(f'{times[0:4]} irão jogar a libertadores')"
   ]
  },
  {
   "cell_type": "markdown",
   "metadata": {},
   "source": [
    "• Exiba os 4 últimos times como os que estão rebaixados para a série B"
   ]
  },
  {
   "cell_type": "code",
   "execution_count": null,
   "metadata": {},
   "outputs": [],
   "source": [
    "times = ['Palmeiras', 'Flamengo', 'Cruzeiro', 'Internacional', 'Fluminense', 'Corinthians', 'Athletico-PR', 'Atlético', 'Fortaleza', 'São Paulo', 'América', 'Botafogo', 'Santos', 'Goiás', 'Red Bull Bragantino', 'Coritiba', 'Cuiabá', 'Grêmio', 'Vasco', 'Bahia'] \n",
    "print(f'{times[16:20]} estão rebaixados para a série B')"
   ]
  },
  {
   "cell_type": "markdown",
   "metadata": {},
   "source": [
    "3. Crie um programa que receba do usuário através do input 6 comidas e refaça todos\n",
    "os itens do exercício 1"
   ]
  },
  {
   "cell_type": "code",
   "execution_count": null,
   "metadata": {},
   "outputs": [],
   "source": [
    "#Correção do professor\n"
   ]
  }
 ],
 "metadata": {
  "kernelspec": {
   "display_name": "Python 3",
   "language": "python",
   "name": "python3"
  },
  "language_info": {
   "codemirror_mode": {
    "name": "ipython",
    "version": 3
   },
   "file_extension": ".py",
   "mimetype": "text/x-python",
   "name": "python",
   "nbconvert_exporter": "python",
   "pygments_lexer": "ipython3",
   "version": "3.12.3"
  }
 },
 "nbformat": 4,
 "nbformat_minor": 2
}
