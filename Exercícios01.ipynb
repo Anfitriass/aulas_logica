{
 "cells": [
  {
   "cell_type": "markdown",
   "metadata": {},
   "source": [
    "00 - Faça um programa que leia algo pelo teclado e mostre na\n",
    "tela o seu tipo primitivo."
   ]
  },
  {
   "cell_type": "code",
   "execution_count": 1,
   "metadata": {},
   "outputs": [],
   "source": [
    "#Correção do professor\n",
    "valor = input('Digite qualquer coisa: ')\n",
    "print(type(valor))"
   ]
  },
  {
   "cell_type": "markdown",
   "metadata": {},
   "source": [
    "01 - Crie um programa que leia dois números e mostre a soma\n",
    "entre eles."
   ]
  },
  {
   "cell_type": "code",
   "execution_count": null,
   "metadata": {},
   "outputs": [],
   "source": [
    "numero1 = 4\n",
    "numero2 = 9\n",
    "soma = numero1 + numero2\n",
    "print(soma)\n",
    "\n",
    "#Correção do professor\n",
    "numero1 = float(input('Digite o primeiro número: '))\n",
    "numero2 = float(input('Digite o segundo número: '))\n",
    "soma = numero1 + numero2\n",
    "print(f'O resultado é : {soma}') "
   ]
  },
  {
   "cell_type": "markdown",
   "metadata": {},
   "source": [
    "02 - Crie um programa que leia um número inteiro e mostre na\n",
    "tela o seu sucessor e antecessor."
   ]
  },
  {
   "cell_type": "code",
   "execution_count": null,
   "metadata": {},
   "outputs": [],
   "source": [
    "numero_inteiro = 49\n",
    "antecessor = numero_inteiro - 1\n",
    "sucessor = numero_inteiro + 1\n",
    "print(antecessor, sucessor)\n",
    "\n",
    "#Correção do professor\n",
    "numero = int(input('Digete um número inteiro: '))\n",
    "antecessor = numero - 1\n",
    "sucessor = numero + 1\n",
    "print(f'O antecessor de {numero} é {antecessor}')\n",
    "print(f'O sucessor de {numero} é {sucessor}')"
   ]
  },
  {
   "cell_type": "markdown",
   "metadata": {},
   "source": [
    "03 - Crie um programa que leia um número e mostre o seu\n",
    "dobro, triplo e raiz quadrada."
   ]
  },
  {
   "cell_type": "code",
   "execution_count": null,
   "metadata": {},
   "outputs": [],
   "source": [
    "numero1 = 9\n",
    "dobro = numero1 * 2\n",
    "triplo = numero1 * 3\n",
    "raiz_quadrada = numero1 ** 9\n",
    "print(dobro, triplo, raiz_quadrada)\n",
    "\n",
    "#Correção do professor\n",
    "numero = float(input('Digite um número: '))\n",
    "dobro = numero * 2\n",
    "triplo = numero * 3\n",
    "raiz = numero ** 0.5\n",
    "print(f'Seu número é {numero}, o dobro é {dobro}, o triplo é {triplo} e a raiz é {raiz}')"
   ]
  },
  {
   "cell_type": "markdown",
   "metadata": {},
   "source": [
    "04 - Crie um programa que leia duas notas de um aluno, calcule\n",
    "e mostre sua média."
   ]
  },
  {
   "cell_type": "code",
   "execution_count": null,
   "metadata": {},
   "outputs": [],
   "source": [
    "nota1 = 7\n",
    "nota2 = 8\n",
    "media = (nota1 + nota2) / 2\n",
    "print(media)\n",
    "\n",
    "#Correção do professor\n",
    "nota1 = float(input('Digite a nota 1: '))\n",
    "nota2 = float(input('Digite a nota 2: '))\n",
    "media = (nota1 + nota2) / 2\n",
    "print(media)"
   ]
  },
  {
   "cell_type": "markdown",
   "metadata": {},
   "source": [
    "05 - Crie um programa que leia o valor em metros e o exiba\n",
    "convertido em centímetros e milímetros."
   ]
  },
  {
   "cell_type": "code",
   "execution_count": null,
   "metadata": {},
   "outputs": [],
   "source": [
    "metros = 4 \n",
    "centimetros = 4 * 100\n",
    "milimetros = 4 * 1000\n",
    "print(centimetros, milimetros)\n",
    "\n",
    "#Correção do professor\n",
    "metro = float(input('Insira uma medida em metros: '))\n",
    "mm = metro * 1000\n",
    "cm = metro * 100\n",
    "print(f' {metro}m é ighal a {cm}cm e {mm}mm')"
   ]
  },
  {
   "cell_type": "markdown",
   "metadata": {},
   "source": [
    "06 - Crie um programa que leia um numero qualquer e mostre\n",
    "na tela a sua tabuada."
   ]
  },
  {
   "cell_type": "code",
   "execution_count": null,
   "metadata": {},
   "outputs": [],
   "source": [
    "numero1 = 9\n",
    "tabuada1x9 = numero1\n",
    "tabuada2x9 = numero1 * 2\n",
    "tabuada3x9 = numero1 * 3\n",
    "tabuada4x9 = numero1 * 4\n",
    "tabuada5x9 = numero1 * 5\n",
    "tabuada6x9 = numero1 * 6\n",
    "tabuada7x9 = numero1 * 7\n",
    "tabuada8x9 = numero1 * 8\n",
    "tabuada9x9 = numero1 * 9\n",
    "tabuada10x9 = numero1 * 10\n",
    "print(tabuada1x9, tabuada2x9, tabuada3x9, tabuada4x9, tabuada5x9, tabuada6x9, tabuada7x9, tabuada8x9, tabuada9x9, tabuada10x9)\n",
    "\n",
    "#Correção do professor\n",
    "nr = float(input('Digite um nr real para calcular a tabuada: '))\n",
    "print(f'Tabuada do {nr}')\n",
    "print(f'{nr} x 1 = {nr*1}')\n",
    "print(f'{nr} x 2 = {nr*2}')\n",
    "print(f'{nr} x 3 = {nr*3}')\n",
    "print(f'{nr} x 4 = {nr*4}')\n",
    "print(f'{nr} x 5 = {nr*5}')\n",
    "print(f'{nr} x 6 = {nr*6}')\n",
    "print(f'{nr} x 7 = {nr*7}')\n",
    "print(f'{nr} x 8 = {nr*8}')\n",
    "print(f'{nr} x 9 = {nr*9}')\n",
    "print(f'{nr} x 10 = {nr*10}')"
   ]
  },
  {
   "cell_type": "markdown",
   "metadata": {},
   "source": [
    "07 - Crie um programa que leia quanto dinheiro a pessoa tem na\n",
    "carteira e mostre quantos dólares ela pode contar."
   ]
  },
  {
   "cell_type": "code",
   "execution_count": null,
   "metadata": {},
   "outputs": [],
   "source": [
    "#Correção do professor\n",
    "real = float(input('Digite o valor em R$: '))\n",
    "dolar = real / 5\n",
    "print(f'Você tem ${dolar}')"
   ]
  },
  {
   "cell_type": "markdown",
   "metadata": {},
   "source": [
    "08 - Crie um programa que leia a largura e a altura de uma\n",
    "parede em metros, calcule a sua área e a quantidade de tinta\n",
    "necessária para pintá-lo, sabendo que cada litro de tinta pinta\n",
    "uma área de 2m2."
   ]
  },
  {
   "cell_type": "code",
   "execution_count": null,
   "metadata": {},
   "outputs": [],
   "source": [
    "largura = 19\n",
    "altura = 14\n",
    "area = largura + altura\n",
    "litro_de_tinta = 2\n",
    "print(area * litro_de_tinta)\n",
    "\n",
    "#Correção do professor\n",
    "altura = float(input('Digite a altura: '))\n",
    "largura = float(input('Digite a largura: '))\n",
    "area = altura * largura\n",
    "litros = area / 2\n",
    "print(f'Para pintar uma area de {area}m², preciso de {litros}l')"
   ]
  },
  {
   "cell_type": "markdown",
   "metadata": {},
   "source": [
    "09 - Faça um algoritmo que leia o preço do produto e mostre\n",
    "seu novo preço com 5% de desconto."
   ]
  },
  {
   "cell_type": "code",
   "execution_count": null,
   "metadata": {},
   "outputs": [],
   "source": [
    "preco = 15\n",
    "desconto = 5\n",
    "novo_preco = preco - desconto\n",
    "print(novo_preco)\n",
    "\n",
    "#Correção do professor\n",
    "valor = float(input('Digite o valor: '))\n",
    "desconto = valor * 5 / 100\n",
    "valor = valor - desconto\n",
    "print(f'Preço total é de {valor}')"
   ]
  },
  {
   "cell_type": "markdown",
   "metadata": {},
   "source": [
    "10 - Faça um algoritmo que leia o salário do funcionário e\n",
    "mostre seu novo salário com 15% de aumento."
   ]
  },
  {
   "cell_type": "code",
   "execution_count": null,
   "metadata": {},
   "outputs": [],
   "source": [
    "salario = 2000\n",
    "aumento = 15\n",
    "novo_salario = salario + aumento\n",
    "print(novo_salario)\n",
    "\n",
    "#Correção do professor\n",
    "salario = float(input('Digite o salario: '))\n",
    "aumento = (salario / 100) * 15\n",
    "salario = salario + aumento\n",
    "print(f'Seu novo salario com 15% de aumento é {salario}') "
   ]
  },
  {
   "cell_type": "markdown",
   "metadata": {},
   "source": [
    "11 - Faça um algoritmo que receba um valor em graus Celsius e\n",
    "converta para farenheit."
   ]
  },
  {
   "cell_type": "code",
   "execution_count": null,
   "metadata": {},
   "outputs": [],
   "source": [
    "#Correção do professor\n",
    "graus = float(input('Digite a temperatura em °C'))\n",
    "valor = graus * 1.8 + 32\n",
    "print(f'{graus}°C é igual a {valor}°F')"
   ]
  },
  {
   "cell_type": "markdown",
   "metadata": {},
   "source": [
    "12 - Faça um algoritmo que pergunte a quantidade de km\n",
    "percorridos por um carro alugado e a quantidade de dias pelos\n",
    "quais ele foi alugado. Calcule o preço a pagar, sabendo que o\n",
    "carro custa R$60 por dia e R$0.15 por km rodado."
   ]
  },
  {
   "cell_type": "code",
   "execution_count": null,
   "metadata": {},
   "outputs": [],
   "source": [
    "km_percorrido = float(input('Km percorrido: '))\n",
    "dias_alugado = float(input('Dias que foi alugado: '))\n",
    "custo_por_dia = dias_alugado * 60\n",
    "custo_por_km = km_percorrido * 0.15\n",
    "print(custo_por_dia + custo_por_km)\n",
    "\n",
    "#Correção do professor\n",
    "km_percorrido = float(input('Digite o Km percorrido: '))\n",
    "dias = int(input('Digite a quantidade de dias: '))\n",
    "pagar = (60 * dias) * (0.15 * km_percorrido)\n",
    "print(f'O vaslor total sera de R$ {pagar:.2f}')"
   ]
  }
 ],
 "metadata": {
  "kernelspec": {
   "display_name": "Python 3",
   "language": "python",
   "name": "python3"
  },
  "language_info": {
   "codemirror_mode": {
    "name": "ipython",
    "version": 3
   },
   "file_extension": ".py",
   "mimetype": "text/x-python",
   "name": "python",
   "nbconvert_exporter": "python",
   "pygments_lexer": "ipython3",
   "version": "3.12.3"
  }
 },
 "nbformat": 4,
 "nbformat_minor": 2
}
