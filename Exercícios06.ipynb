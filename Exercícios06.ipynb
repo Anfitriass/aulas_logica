{
 "cells": [
  {
   "cell_type": "markdown",
   "metadata": {},
   "source": [
    "1. Utilizando o comando for, exiba todos os números ímpares, de 1 a 40."
   ]
  },
  {
   "cell_type": "code",
   "execution_count": null,
   "metadata": {},
   "outputs": [],
   "source": [
    "for x in range(1, 40, 2) :\n",
    "    print(x)"
   ]
  },
  {
   "cell_type": "markdown",
   "metadata": {},
   "source": [
    "2. Gere os 6 números do sorteio da mega-sena de forma aleatória."
   ]
  },
  {
   "cell_type": "code",
   "execution_count": null,
   "metadata": {},
   "outputs": [],
   "source": [
    "import random\n",
    "for x in range(6) :\n",
    "    nr = random.randint(1,60)\n",
    "    print(nr)"
   ]
  },
  {
   "cell_type": "markdown",
   "metadata": {},
   "source": [
    "3. Receba 5 números e verifique a soma e a quantidade de todos os pares e ímpares digitados"
   ]
  },
  {
   "cell_type": "code",
   "execution_count": null,
   "metadata": {},
   "outputs": [],
   "source": [
    "qtdeImpar = 0 \n",
    "qtdePar = 0\n",
    "soma = 0\n",
    "for nr in range(5) :\n",
    "    nr = int(input('Digite o valor do produto [0 para encerrar]:'))\n",
    "    if nr % 2 == 0 :\n",
    "        qtdePar += 1\n",
    "    if nr % 2 == 1 :\n",
    "        qtdeImpar += 1\n",
    "    soma = nr + soma\n",
    "print(f'A soma é {soma} são {qtdePar} pares e {qtdeImpar} impares')"
   ]
  },
  {
   "cell_type": "markdown",
   "metadata": {},
   "source": [
    "4. Solicite os parâmetros de início, fim e passo para o laço de repetição usando a função range()\n",
    "e exiba o valor atual da variável de controle a cada iteração. range( x , y , z )"
   ]
  },
  {
   "cell_type": "code",
   "execution_count": null,
   "metadata": {},
   "outputs": [],
   "source": [
    "#Correção do professor\n",
    "inicio = int(input('Digite o valor inicial'))\n",
    "fim = int(input('Digite o valor final'))\n",
    "passo = int(input('Digite o passo'))\n",
    "for x in range(inicio, fim, passo) :\n",
    "    print(x)"
   ]
  },
  {
   "cell_type": "markdown",
   "metadata": {},
   "source": [
    "5. Ler do teclado a idade e o sexo de 10 pessoas, calcule e imprima:\n",
    "\n",
    "• idade média das mulheres\n",
    "\n",
    "• idade média dos homens\n",
    "\n",
    "• idade média do grupo"
   ]
  },
  {
   "cell_type": "code",
   "execution_count": null,
   "metadata": {},
   "outputs": [],
   "source": [
    "#Correção do professor\n",
    "soma_mulheres = 0\n",
    "soma_homens = 0\n",
    "qtde_mulheres = 0\n",
    "qtde_homens = 0\n",
    "for x in range(5) :\n",
    "    idade = int(input('Digite a idade:'))\n",
    "    sexo = input('Digite seu sexo:[F/M]')\n",
    "    if sexo == 'F' :\n",
    "        soma_mulheres = soma_mulheres + idade\n",
    "        qtde_mulheres = qtde_mulheres + 1\n",
    "    else :\n",
    "        soma_homens = soma_homens + idade\n",
    "        qtde_homens = qtde_homens + 1\n",
    "print(f'Média das mulheres {soma_mulheres / qtde_mulheres}')\n",
    "print(f'Média dos homens {soma_homens / qtde_homens}')\n",
    "print(f'Média do grupo {(soma_homens / soma_mulheres) / (qtde_homens + qtde_mulheres)}')"
   ]
  },
  {
   "cell_type": "markdown",
   "metadata": {},
   "source": [
    "6. Escreva um programa que mostre todos os números entre 5 e 100 que são divisíveis por 7. Os\n",
    "números obtidos devem ser impressos em sequência."
   ]
  },
  {
   "cell_type": "code",
   "execution_count": null,
   "metadata": {},
   "outputs": [],
   "source": [
    "for x in range(7, 100, 7) :\n",
    "    print(x)"
   ]
  },
  {
   "cell_type": "markdown",
   "metadata": {},
   "source": [
    "7. Escreva um programa em Python que receba uma string do usuário e mostre de trás para\n",
    "frente."
   ]
  },
  {
   "cell_type": "code",
   "execution_count": null,
   "metadata": {},
   "outputs": [],
   "source": [
    "nome = input('Digite nome:')\n",
    "tpf = nome [::-1]\n",
    "print(tpf)"
   ]
  },
  {
   "cell_type": "code",
   "execution_count": null,
   "metadata": {},
   "outputs": [],
   "source": [
    "#Correção do professor\n",
    "palavra = input('Digite uma palavra: ')\n",
    "np = ''\n",
    "for letra in palavra :\n",
    "    np = letra + np\n",
    "print(np)"
   ]
  },
  {
   "cell_type": "markdown",
   "metadata": {},
   "source": [
    "Objetivo:\n",
    "\n",
    "Este programa visa auxiliar o usuário no aprendizado da tabuada de um número específico, fornecendo\n",
    "feedback interativo e estatísticas de desempenho ao final.\n",
    "\n",
    "Funcionalidades:\n",
    "\n",
    "Solicita ao usuário o número que deseja treinar.\n",
    "\n",
    "Apresenta perguntas de multiplicação de 1 a 10 para o número escolhido.\n",
    "\n",
    "Valida cada resposta do usuário, fornecendo feedback em tempo real: \"CORRETO!\" para respostas corretas. \"QUE PENA, VOCÊ ERROU! O valor correto é X.\" para respostas incorretas, substituindo \"X\" pelo valor\n",
    "correto.\n",
    "\n",
    "Exibe estatísticas ao final da sessão: \"Total de acertos: Y\"\n",
    "\"Total de erros: Z\""
   ]
  },
  {
   "cell_type": "code",
   "execution_count": null,
   "metadata": {},
   "outputs": [],
   "source": [
    "#Correção do professor\n"
   ]
  }
 ],
 "metadata": {
  "kernelspec": {
   "display_name": "Python 3",
   "language": "python",
   "name": "python3"
  },
  "language_info": {
   "codemirror_mode": {
    "name": "ipython",
    "version": 3
   },
   "file_extension": ".py",
   "mimetype": "text/x-python",
   "name": "python",
   "nbconvert_exporter": "python",
   "pygments_lexer": "ipython3",
   "version": "3.12.3"
  }
 },
 "nbformat": 4,
 "nbformat_minor": 2
}
