{
 "cells": [
  {
   "cell_type": "markdown",
   "metadata": {},
   "source": [
    "1. Escreva uma função que utilize uma variável global para contar o número de vezes que foi\n",
    "chamada. A função deve retornar o número atual de chamadas."
   ]
  },
  {
   "cell_type": "code",
   "execution_count": null,
   "metadata": {},
   "outputs": [],
   "source": [
    "n = 5\n",
    "def Contar() :\n",
    "    global n \n",
    "    n = 0\n",
    "    #n += 1 \n",
    "    n = n + 1\n",
    "    print(n)\n",
    "def Diminuir() :\n",
    "    n = 0\n",
    "    n = n - 1\n",
    "    print(n)\n",
    "Contar()\n",
    "Contar()\n",
    "Diminuir()\n",
    "Contar()"
   ]
  },
  {
   "cell_type": "markdown",
   "metadata": {},
   "source": [
    "2. Crie um algoritmo que receba em variável global o valor atual do dólar e do euro, crie uma\n",
    "função que receba o valor a ser convertido e imprima a conversão em dólar e em euro"
   ]
  },
  {
   "cell_type": "code",
   "execution_count": null,
   "metadata": {},
   "outputs": [],
   "source": [
    "dolar = 5.13\n",
    "euro = 5.45\n",
    "def Conversao(real) :\n",
    "    dolar_convertido = real / dolar \n",
    "    euro_convertido = real / dolar\n",
    "    print(f'R$ {real:.2f} equivale a US${dolar_convertido} e ${euro_convertido}')\n",
    "valor = float(input('Digite o avarlo em R$'))\n",
    "Conversao(valor) "
   ]
  },
  {
   "cell_type": "markdown",
   "metadata": {},
   "source": [
    "3. Escreva uma função que recebe um nome e o adicione a uma lista de nomes global. Em\n",
    "seguida, escreva outra função que remova um elemento dessa lista global recebendo o nome."
   ]
  },
  {
   "cell_type": "code",
   "execution_count": null,
   "metadata": {},
   "outputs": [],
   "source": [
    "listaNomes = []\n",
    "def Adicionar(nome) :\n",
    "    listaNomes.append(nome)\n",
    "    print(listaNomes)\n",
    "def Remover(nome) :\n",
    "    listaNomes.remove(nome)\n",
    "    print(listaNomes)\n",
    "Adicionar('Marcos')\n",
    "Adicionar('Douglas')\n",
    "Remover('Douglas')"
   ]
  },
  {
   "cell_type": "markdown",
   "metadata": {},
   "source": [
    "4. Crie um caixa eletrônico: Crie uma variável global para armazenar o saldo, crie função para\n",
    "depositar e sacar, recebendo o valor como parâmetro, crie outra função para consultar o\n",
    "saldo. Crie um menu interativo com while para navegar entre as funções:\n",
    "\n",
    "[1] Depositar\n",
    " \n",
    "[2] Sacar\n",
    "\n",
    "[3] Consultar saldo\n",
    "\n",
    "[4] Parar programa"
   ]
  },
  {
   "cell_type": "code",
   "execution_count": null,
   "metadata": {},
   "outputs": [],
   "source": [
    "saldo = 0\n",
    "def Depositar(valor) :\n",
    "    global saldo\n",
    "    saldo = saldo + valor\n",
    "def Sacar(valor) :\n",
    "    global saldo\n",
    "    saldo = saldo - valor\n",
    "def ConsultarSaldo() :\n",
    "    print(f'Seu saldo R$ {saldo:.2f}')\n",
    "    print('Menu')\n",
    "    print('[1] Depositar')\n",
    "    print('[2] Sacar')\n",
    "    print('[3] Consultar saldo')\n",
    "    print('[4] Parar programa')\n",
    "while True :\n",
    "    opcao = input('Digite a opção do menu')\n",
    "    if opcao == '1' :\n",
    "        valor = float(input('Digite o valor para depositar'))\n",
    "        Depositar(valor)\n",
    "    elif opcao == '2' :\n",
    "        valor = float(input('Digite o valor a sacar'))\n",
    "        Sacar(valor)\n",
    "    elif opcao == '3' :\n",
    "        ConsultarSaldo()\n",
    "    else :\n",
    "        break"
   ]
  },
  {
   "cell_type": "markdown",
   "metadata": {},
   "source": [
    "5. Desenhando um retângulo. Crie um algoritmo que receba em variável global um caractere\n",
    "especial. Em uma função receba 2 parâmetros altura e largura e desenhe de acordo com a\n",
    "largura, a quantidade de vezes que irá repetir o caractere, e de acordo com a altura, o número\n",
    "de linhas que será desenhado. Ex: Caractere +, largura 20 altura 5:\n",
    "\n",
    "++++++++++++++++++++\n",
    "\n",
    "++++++++++++++++++++\n",
    "\n",
    "++++++++++++++++++++\n",
    "\n",
    "++++++++++++++++++++\n",
    "\n",
    "++++++++++++++++++++"
   ]
  },
  {
   "cell_type": "code",
   "execution_count": null,
   "metadata": {},
   "outputs": [],
   "source": [
    "caractere = '+'\n",
    "def desenharForma(l, a) :\n",
    "    global caractere\n",
    "    for i in range(a) :\n",
    "        print(caractere * l)\n",
    "desenharForma(20,5)"
   ]
  },
  {
   "cell_type": "markdown",
   "metadata": {},
   "source": [
    "6. No exercício anterior, inclua uma docstring e os annotations na função para explicar para o\n",
    "usuário, como utiliza-la"
   ]
  },
  {
   "cell_type": "code",
   "execution_count": null,
   "metadata": {},
   "outputs": [],
   "source": []
  }
 ],
 "metadata": {
  "kernelspec": {
   "display_name": "Python 3",
   "language": "python",
   "name": "python3"
  },
  "language_info": {
   "codemirror_mode": {
    "name": "ipython",
    "version": 3
   },
   "file_extension": ".py",
   "mimetype": "text/x-python",
   "name": "python",
   "nbconvert_exporter": "python",
   "pygments_lexer": "ipython3",
   "version": "3.12.3"
  }
 },
 "nbformat": 4,
 "nbformat_minor": 2
}
