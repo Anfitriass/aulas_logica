{
 "cells": [
  {
   "cell_type": "markdown",
   "metadata": {},
   "source": [
    "1. Crie uma função sem parâmetros que exiba uma linha com 50 * , e uma mensagem de boas\n",
    "vindas, chame essa função por 4 vezes"
   ]
  },
  {
   "cell_type": "code",
   "execution_count": null,
   "metadata": {},
   "outputs": [],
   "source": [
    "def BoasVindas() :\n",
    "    print('-' * 50)\n",
    "    print('Seja bem-vindo')\n",
    "    print('-' * 50)\n",
    "BoasVindas()\n",
    "BoasVindas()\n",
    "BoasVindas()"
   ]
  },
  {
   "cell_type": "markdown",
   "metadata": {},
   "source": [
    "2. Crie uma função que contenha uma lista com as cores primárias e exiba cada cor em uma\n",
    "linha"
   ]
  },
  {
   "cell_type": "code",
   "execution_count": null,
   "metadata": {},
   "outputs": [],
   "source": [
    "\n",
    "def Cores() :\n",
    "    listaCores = ['Vermelho🟥', 'Amarelo🟨', 'Azul🟦']\n",
    "    for Cor in listaCores :\n",
    "        print(Cor)\n",
    "Cores()"
   ]
  },
  {
   "cell_type": "markdown",
   "metadata": {},
   "source": [
    "3. Crie uma função que recebe um número como parâmetro e exiba a tabuada até o 10, chame\n",
    "essa função por 3 vezes enviando parâmetros diferentes"
   ]
  },
  {
   "cell_type": "code",
   "execution_count": null,
   "metadata": {},
   "outputs": [],
   "source": [
    "def Tabuada(nr) :\n",
    "    for x in range(11) :\n",
    "       print(f'{nr} x {x} = {nr * x}')\n",
    "Tabuada(3)\n",
    "Tabuada(4)\n",
    "Tabuada(9)"
   ]
  },
  {
   "cell_type": "markdown",
   "metadata": {},
   "source": [
    "4. Crie uma função que receba 2 números e o operador matemático para realizar a operação\n",
    "\n",
    "(Ex. envio os parâmetros 2 e 5 e *, fazer a multiplicação), tratar as operações + - * / **"
   ]
  },
  {
   "cell_type": "code",
   "execution_count": null,
   "metadata": {},
   "outputs": [],
   "source": [
    "def Calculadora(n1, n2, op) :\n",
    "    if op == '+' :\n",
    "        res = n1 + n2\n",
    "    elif op == '-' :\n",
    "        res = n1 - n2 \n",
    "    elif op == '*' :\n",
    "        res = n1 * n2 \n",
    "    elif op == '/' :\n",
    "        res = n1 / n2 \n",
    "    elif op == '**' :\n",
    "        res = n1 ** n2 \n",
    "    else :\n",
    "        res = 'Digite um operador valido'\n",
    "    print(res)\n",
    "Calculadora(6, 7, '*')    "
   ]
  },
  {
   "cell_type": "markdown",
   "metadata": {},
   "source": [
    "5. Crie uma função que gere uma senha aleatória, deve receber como parâmetro a quantidade\n",
    "de caracteres que terá a senha, crie uma lista com todos os caracteres disponíveis para a\n",
    "senha e com o random sorteie a qual de dígitos terá a senha"
   ]
  },
  {
   "cell_type": "code",
   "execution_count": null,
   "metadata": {},
   "outputs": [],
   "source": [
    "import random\n",
    "def SenhaAleatoria(tamanho) :\n",
    "    listaCaracteries = 'qaoifuherwoigi6a5+9sader/g[w+qs8]g8rwe1]7439+setDW*'\n",
    "    senha = ''\n",
    "    for i in range(tamanho) :\n",
    "        senha = senha + random.choice(listaCaracteries)\n",
    "    return(senha)\n",
    "senhaTemp = SenhaAleatoria(8)\n",
    "print(senhaTemp)"
   ]
  }
 ],
 "metadata": {
  "kernelspec": {
   "display_name": "Python 3",
   "language": "python",
   "name": "python3"
  },
  "language_info": {
   "codemirror_mode": {
    "name": "ipython",
    "version": 3
   },
   "file_extension": ".py",
   "mimetype": "text/x-python",
   "name": "python",
   "nbconvert_exporter": "python",
   "pygments_lexer": "ipython3",
   "version": "3.12.3"
  }
 },
 "nbformat": 4,
 "nbformat_minor": 2
}
