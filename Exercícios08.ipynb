{
 "cells": [
  {
   "cell_type": "markdown",
   "metadata": {},
   "source": [
    "1. Crie uma lista com os números de 1 a 10 e imprima cada número."
   ]
  },
  {
   "cell_type": "code",
   "execution_count": null,
   "metadata": {},
   "outputs": [],
   "source": [
    "ns = [1, 2, 3, 4, 5, 6, 7, 8, 9, 10]\n",
    "for lista in ns :\n",
    "    print(lista)"
   ]
  },
  {
   "cell_type": "markdown",
   "metadata": {},
   "source": [
    "2. Crie uma lista com os nomes de três amigos e imprima cada nome."
   ]
  },
  {
   "cell_type": "code",
   "execution_count": null,
   "metadata": {},
   "outputs": [],
   "source": [
    "nomes = ['Juliana', 'Natalie', 'Livia']\n",
    "for lista in nomes :\n",
    "    print(lista)"
   ]
  },
  {
   "cell_type": "markdown",
   "metadata": {},
   "source": [
    "3. Crie uma lista com os meses do ano e imprima apenas os meses que começam com \"J\"."
   ]
  },
  {
   "cell_type": "code",
   "execution_count": null,
   "metadata": {},
   "outputs": [],
   "source": [
    "ms = ['janeiro', 'fevereiro', 'março', 'abril', 'maio', 'junho', 'julho', 'agosto', 'setembro', 'outubro', 'novembro', 'dezembro']\n",
    "for mes in ms :\n",
    "    if mes[0] == 'j' :\n",
    "        print(mes)"
   ]
  },
  {
   "cell_type": "markdown",
   "metadata": {},
   "source": [
    "4. Crie uma lista com as palavras \"gato\", \"cachorro\", \"pássaro\" e \"peixe\", e imprima cada palavra\n",
    "em maiúsculas."
   ]
  },
  {
   "cell_type": "code",
   "execution_count": null,
   "metadata": {},
   "outputs": [],
   "source": [
    "animais = ['gato🐈', 'cachoro🐕', 'pássaro🕊', 'peixe🐟']\n",
    "for palavra in animais :\n",
    "    print(palavra.upper())"
   ]
  },
  {
   "cell_type": "markdown",
   "metadata": {},
   "source": [
    "5. Crie uma lista com 5 números aleatórios e exiba o nr e seu dobro desse."
   ]
  },
  {
   "cell_type": "code",
   "execution_count": null,
   "metadata": {},
   "outputs": [],
   "source": [
    "listaN = [50, 49, 60, 56, 4]\n",
    "for nr in listaN :\n",
    "    dobro = nr * 2\n",
    "    print(nr, dobro)"
   ]
  },
  {
   "cell_type": "markdown",
   "metadata": {},
   "source": [
    "6. Crie uma lista com valores numéricos e encontre o maior e o menor elemento dessa lista."
   ]
  },
  {
   "cell_type": "code",
   "execution_count": null,
   "metadata": {},
   "outputs": [],
   "source": [
    "listaNrs = [50, 49, 60, 56, 4]\n",
    "menorNr =100000000\n",
    "maiorNr = 0\n",
    "for nrAtual in listaNrs :\n",
    "    if nrAtual > maiorNr :\n",
    "        maiorNr = nrAtual\n",
    "    if nrAtual < menorNr :\n",
    "        menorNr = nrAtual       \n",
    "print(menorNr, maiorNr)\n",
    "\n",
    "#Utilizando as funções prontas do python\n",
    "#print(max(listaN))\n",
    "#print(min(listaN))"
   ]
  },
  {
   "cell_type": "markdown",
   "metadata": {},
   "source": [
    "7. Receba uma palavra do usuário e calcule quantas vogais há nesta palavra."
   ]
  },
  {
   "cell_type": "code",
   "execution_count": null,
   "metadata": {},
   "outputs": [],
   "source": [
    "#Correção do professor\n",
    "palavra = input('Digite uma palavra:')\n",
    "vogais = ['a', 'e', 'i', 'o', 'u']\n",
    "qtdevogais = 0\n",
    "for letra in palavra :\n",
    "    if letra.lower() in vogais :\n",
    "        qtdevogais = qtdevogais + 1\n",
    "print(f'A palavra {palavra} tem {qtdevogais} vogais')"
   ]
  },
  {
   "cell_type": "markdown",
   "metadata": {},
   "source": [
    "8. Nessa string ‘Gol;Corsa;Palio;Monza;Fusca;’, faça a separação desses itens para uma lista e\n",
    "exiba o item e a posição que ele está"
   ]
  },
  {
   "cell_type": "code",
   "execution_count": null,
   "metadata": {},
   "outputs": [],
   "source": [
    "lista = ['Gol','Corsa', 'Palio', 'Monza', 'Fusca']\n",
    "print(f'item {lista[0]} posição 0')\n",
    "print(f'item {lista[1]} posição 1')\n",
    "print(f'item {lista[2]} posição 2')\n",
    "print(f'item {lista[3]} posição 3')\n",
    "print(f'item {lista[4]} posição 4')"
   ]
  },
  {
   "cell_type": "markdown",
   "metadata": {},
   "source": [
    "9. Faça um programa que vai ler valores numéricos e guardá-los em uma lista, caso o\n",
    "usuário digite 0, o programa mostre:\n",
    "\n",
    "A – Quantos números foram digitados.\n",
    "\n",
    "B – Mostre a lista em ordem crescente.\n",
    "\n",
    "C – Mostre a lista em ordem decrescente.\n",
    "\n",
    "D – O maior valor\n",
    "\n",
    "E – O menor valor\n",
    "\n",
    "D – Se o valor 5 foi digitado na lista ou não."
   ]
  },
  {
   "cell_type": "code",
   "execution_count": null,
   "metadata": {},
   "outputs": [],
   "source": [
    "#Correção do professor"
   ]
  },
  {
   "cell_type": "markdown",
   "metadata": {},
   "source": [
    "10. Faça um programa que peça o nome de 6 pessoas e pergunte o sexo delas e\n",
    "armazene em 2 listas, uma de homem caso coloque o sexo ‘M’ e outra de mulher caso\n",
    "coloque o sexo ‘F’, no final exiba a lista de homens e mulheres"
   ]
  },
  {
   "cell_type": "code",
   "execution_count": null,
   "metadata": {},
   "outputs": [],
   "source": [
    "#Correção do professor\n"
   ]
  }
 ],
 "metadata": {
  "kernelspec": {
   "display_name": "Python 3",
   "language": "python",
   "name": "python3"
  },
  "language_info": {
   "codemirror_mode": {
    "name": "ipython",
    "version": 3
   },
   "file_extension": ".py",
   "mimetype": "text/x-python",
   "name": "python",
   "nbconvert_exporter": "python",
   "pygments_lexer": "ipython3",
   "version": "3.12.3"
  }
 },
 "nbformat": 4,
 "nbformat_minor": 2
}
