{
 "cells": [
  {
   "cell_type": "markdown",
   "metadata": {},
   "source": [
    "Aula 22/02/2024 - Comandos de entrada (input) / Variaveis / Pseudocódigo "
   ]
  },
  {
   "cell_type": "code",
   "execution_count": null,
   "metadata": {},
   "outputs": [],
   "source": [
    "#Declarando minha primeira variavel \n",
    "#lemos da seguinte forma:\n",
    "#variavel curso recebe(=) a string \"Desenvolvimento de Sistemas\"\n",
    "#Receba/Armazene o texto \"Desenvolvimento de Sistemas\"\n",
    "curso = \"Desenvolvimento de Sistemas\"\n",
    "#Exiba o valor armazenado \n",
    "print(\"curso\")  # Para imprimir uma variavel não se coloca entre \" \"\n",
    "print(curso)    # Jeito correte de utilizar uma variável \n",
    "print (\"curso\", curso )\n",
    "\n",
    "#Criando e atribuindo uma variavel \n",
    "idade = 15\n",
    "temperatura = 23.5\n",
    "nome = \"Coelho\"\n",
    "#Exiba o valor das 3 variáveis \n",
    "print(\"Olá\",nome, \"você tem\", idade, \"hoje está fazendo\", temperatura)\n",
    "print(F'Olá {nome}, você tem {idade} anos, hoje está fazendo {temperatura}ºC)')\n",
    "\n",
    "#Declarando variáveis lógicas, recebe apenas True or False\n",
    "chovendo = False \n",
    "dia = True\n",
    "\n",
    "# Nesta linha abaixo ocorrerá um erro pois não exixte uma variavel com o\n",
    "# nome salario, então consegue encontrar nada para exibir\n",
    "# NameError: name 'salario' is not defined\n",
    "# print(\"salario\", salario)\n",
    "\n",
    "#Declarando um constante, diferentemente da variavel que posso alterar o valor \n",
    "# na constante não é permitido, declaramos com o nome todo maiusculo\n",
    "PI = 3.1415\n",
    "\n",
    "#Passo 1: Receber o nome da pessoa\n",
    "#No input sempre recebemos uma string\n",
    "nome = input(\"Qual seu nome?\")\n",
    "#Passo 2: Receber a idade da pessoa\n",
    "#Posso converter essa string recebida de tipo inteiro\n",
    "idade = int(input(\"Qual sua idade?\"))\n",
    "#Passo 3: Receber o peso da pessoa\n",
    "#Posso converter essa string recebida do tipo float\n",
    "peso = float(input(\"Qual seu peso?\"))\n",
    "#Passo 4: exibir o nome, a idade e o peso\n",
    "print(nome, idade, peso)\n",
    "print(F'Seu nome é {nome}, você tem {idade} anos e pesa {peso}kg')\n",
    "\n",
    "#Exibindo os tipos das variaveis\n",
    "#Tudo o que recebemos do input é do tipo string\n",
    "print(type(nome), type(idade), type(peso))"
   ]
  },
  {
   "cell_type": "markdown",
   "metadata": {},
   "source": [
    "23/02/2024 - Operações com variáveis"
   ]
  },
  {
   "cell_type": "code",
   "execution_count": null,
   "metadata": {},
   "outputs": [],
   "source": [
    "#Receber o primeiro número\n",
    "numero1 = float(input('Digite o primeiro número: '))\n",
    "#Receber o segundo número\n",
    "numero2 = float(input('Digite o segundo número: '))\n",
    "#Recebe o terceiro número\n",
    "numero3 = float(input('Digite o terceiro número: '))\n",
    "#Soma o primeiro número + o segundo número\n",
    "soma = numero1 + numero2 + numero3\n",
    "#Exibir o resultado\n",
    "print(soma)\n",
    "print(type(soma))"
   ]
  },
  {
   "cell_type": "code",
   "execution_count": 9,
   "metadata": {},
   "outputs": [
    {
     "name": "stdout",
     "output_type": "stream",
     "text": [
      "9.0\n"
     ]
    }
   ],
   "source": [
    "numero1 = float(input('Digite o primeiro número: '))\n",
    "numero2 = float(input('Digite o segundo número: '))\n",
    "soma = numero1 * numero2\n",
    "print(soma)"
   ]
  },
  {
   "cell_type": "code",
   "execution_count": 17,
   "metadata": {},
   "outputs": [
    {
     "name": "stdout",
     "output_type": "stream",
     "text": [
      "1.0\n"
     ]
    }
   ],
   "source": [
    "preco = float(input('Qual o valor do celular: '))\n",
    "desconto = float(input('Qual o valor do desconto: '))\n",
    "#Atualizando o valor do produto com o desconto\n",
    "#????\n",
    "preco = preco - desconto\n",
    "print(preco)"
   ]
  },
  {
   "cell_type": "code",
   "execution_count": 20,
   "metadata": {},
   "outputs": [
    {
     "name": "stdout",
     "output_type": "stream",
     "text": [
      "12.0\n"
     ]
    }
   ],
   "source": [
    "print(float(input('Qual o valor do celular: ')) - float(input('Qual o valor do desconto: ')) )"
   ]
  },
  {
   "cell_type": "code",
   "execution_count": null,
   "metadata": {},
   "outputs": [],
   "source": [
    "numero = 4 / 2\n",
    "print(numero)\n",
    "numero = numero ** 2\n",
    "print(numero)\n",
    "numero = numero * (50-20)\n",
    "print(numero)\n",
    "print(f'O valor final é {numero}')"
   ]
  },
  {
   "cell_type": "code",
   "execution_count": null,
   "metadata": {},
   "outputs": [],
   "source": [
    "#Passo 1:Descobrir quantas horas de trabalho vamos usar no projeto\n",
    "hora_por_dia = 8 \n",
    "dias_totais = 15\n",
    "print(hora_por_dia * dias_totais)\n",
    "#Passo 2:Pegar o custo de uma hora de trabalho e multiplicar pelo resultado do passo 1\n",
    "horas_trabalho = 120\n",
    "custo_hora = 100\n",
    "print(custo_hora * horas_trabalho)\n",
    "#Passo 3:Exibir o resultado final do custo do projeto\n",
    "resultado = 12000\n",
    "print(f'Custo final é {resultado}')\n",
    "\n",
    "#Jeito do professor\n",
    "hora_por_dia = 8 \n",
    "dias_totais = 15\n",
    "horas_trabalho = hora_por_dia * dias_totais\n",
    "custo_hora = 100\n",
    "custo_total = horas_trabalho * custo_hora\n",
    "print(f'Você deve cobrart R$ {custo_total}')"
   ]
  },
  {
   "cell_type": "markdown",
   "metadata": {},
   "source": [
    "29/02/2024 - Operadores relacionais e estrutura condicional"
   ]
  },
  {
   "cell_type": "code",
   "execution_count": null,
   "metadata": {},
   "outputs": [],
   "source": [
    "a = 2\n",
    "b = 3\n",
    "print(f'a > b ? {a>b} ')\n",
    "print(f'a == b ? {a==b} ')\n",
    "print(f'a != b ? {a!=b} ')\n",
    "print(f'a > 2 ? {a>2} ')\n",
    "print(f'a >= 2 ? {a>=2} ')"
   ]
  },
  {
   "cell_type": "code",
   "execution_count": 2,
   "metadata": {},
   "outputs": [
    {
     "name": "stdout",
     "output_type": "stream",
     "text": [
      "Posso entrar\n",
      "Fim\n"
     ]
    }
   ],
   "source": [
    "tenho_ingresso = True\n",
    "if tenho_ingresso == True:\n",
    "    print('Posso entrar')\n",
    "print('Fim')"
   ]
  },
  {
   "cell_type": "code",
   "execution_count": 4,
   "metadata": {},
   "outputs": [
    {
     "name": "stdout",
     "output_type": "stream",
     "text": [
      "Maior Idade\n"
     ]
    }
   ],
   "source": [
    "#Passo 1: Receber o valor da idade\n",
    "idade = int(input('Qual sua idade?'))\n",
    "#Passo 2: Verificar SE é maior ou igual a 18 ENTÃO\n",
    "if idade >= 18 :\n",
    "#Passo 3: Se for Exibir \"Maior Idade\"\n",
    "    print(\"Maior Idade\")"
   ]
  },
  {
   "cell_type": "code",
   "execution_count": null,
   "metadata": {},
   "outputs": [],
   "source": [
    "tenho_ingresso = True\n",
    "if tenho_ingresso == True:\n",
    "    print('Posso entrar')\n",
    "else:\n",
    "    print('Estou barrado')\n",
    "print('Fim')"
   ]
  },
  {
   "cell_type": "markdown",
   "metadata": {},
   "source": [
    "01/03/2024 - Operadores Lógicos e Estrutura condicional"
   ]
  },
  {
   "cell_type": "code",
   "execution_count": null,
   "metadata": {},
   "outputs": [],
   "source": [
    "a = 2\n",
    "b = 3\n",
    "c = 5\n",
    "#     False e False\n",
    "print((a>2)and(b<2)) #False\n",
    "#     False ou False\n",
    "print((a>2)or(b<2)) #False\n",
    "#     False ou False\n",
    "print((a>2)or(b<5)) #False\n",
    "\n",
    "idade = 18\n",
    "#         False       True\n",
    "print(idade > 18 or idade == 18) #True\n",
    "#          idade >= 18"
   ]
  },
  {
   "cell_type": "code",
   "execution_count": null,
   "metadata": {},
   "outputs": [],
   "source": [
    "altura = float(input('Digite sua altura (em cm): '))\n",
    "peso = float(input('Digite seu peso em kg: '))\n",
    "imc = peso / (altura ** 2)\n",
    "if imc < 18.5:\n",
    "    print('Abaixo do peso ideal')\n",
    "elif imc >= 18.5 and imc <= 24.9:\n",
    "    print('Peso ideal')\n",
    "elif imc >= 25 and imc <= 29.9:\n",
    "    print('Sobrepeso')\n",
    "else:\n",
    "    print('Obesidade')"
   ]
  },
  {
   "cell_type": "code",
   "execution_count": null,
   "metadata": {},
   "outputs": [],
   "source": [
    "lado1 = input('Digite lado 1:')\n",
    "lado2 = input('Digite lado 2:')\n",
    "lado3 = input('Digite lado 3:')\n",
    "if (lado1 == lado2) and (lado2 == lado3):\n",
    "    print('Triangulo Equilátero')\n",
    "elif (lado1 != lado2) and (lado2 != lado3) and (lado1 != lado3):\n",
    "    print('Triangulo Escaleno')\n",
    "else:\n",
    "    print('Triangulo Isósceles')"
   ]
  },
  {
   "cell_type": "code",
   "execution_count": null,
   "metadata": {},
   "outputs": [],
   "source": [
    "letra = input(\"Digite uma letra:\")\n",
    "if letra == 'a' or letra == 'e' or letra == 'i' or letra == 'o' or letra == 'u' :\n",
    "    print(f'a letra {letra} é uma vogal')\n",
    "elif letra == '1' or letra == '2' or letra == '3' or letra == '4' or letra == '5' or letra == '6' or letra == '7' or letra == '8' or letra == '9' :\n",
    "    print(f'a letra {letra} E uma consoante')\n",
    "else :\n",
    "    print('Não é uma letra')"
   ]
  },
  {
   "cell_type": "markdown",
   "metadata": {},
   "source": [
    "07/03/2024 - Estrutura condicional aninhado / match case"
   ]
  },
  {
   "cell_type": "code",
   "execution_count": null,
   "metadata": {},
   "outputs": [],
   "source": [
    "idade = int(input('Digite sua idade: '))\n",
    "if idade >= 18 and idade <= 70 :\n",
    "    print('Você é obrigado a votar')\n",
    "else:\n",
    "    if idade < 16 :\n",
    "        print('Você não pode votar')\n",
    "    else:\n",
    "        if idade >= 16 or idade > 70 :\n",
    "            print('Seu voto é facultativo')\n",
    "print('Fim')"
   ]
  },
  {
   "cell_type": "code",
   "execution_count": null,
   "metadata": {},
   "outputs": [],
   "source": [
    "n1 = int(input('Digite um numero: '))\n",
    "n2 = int(input('Digite um numero: '))\n",
    "op = input('Digite operador + - * / ** ')\n",
    "match op :\n",
    "    case '+' : # if op == '+' :\n",
    "        print(f'{n1} {op} {n2} = {n1+n2}') \n",
    "    case '-' : # if op == '-' :\n",
    "        print(f'{n1} {op} {n2} = {n1-n2}')\n",
    "    case '*' : # if op == '*' :\n",
    "        print(f'{n1} {op} {n2} = {n1*n2}')\n",
    "    case '/' : # if op == '/' :\n",
    "        print(f'{n1} {op} {n2} = {n1/n2}')\n",
    "    case '**' : # if op == '**' :\n",
    "        print(f'{n1} {op} {n2} = {n1**n2}')\n",
    "    case _ :\n",
    "        print('Operador digitado invalido')"
   ]
  },
  {
   "cell_type": "markdown",
   "metadata": {},
   "source": [
    "08/03/2024 - Laço de repetição - While"
   ]
  },
  {
   "cell_type": "code",
   "execution_count": null,
   "metadata": {},
   "outputs": [],
   "source": [
    "x = 1\n",
    "while x <= 50 :\n",
    "   print('Eu vou prestar atenção na aula')\n",
    "   x = x + 1\n",
    "print('Fim')"
   ]
  },
  {
   "cell_type": "code",
   "execution_count": null,
   "metadata": {},
   "outputs": [],
   "source": [
    "import time #Importando uma biblioteca de tempo\n",
    "x = 10\n",
    "while x >= 0 :\n",
    "    print(x)\n",
    "    time.sleep(1) #Dando uma pausa de 1s na execução\n",
    "    x = x - 1\n",
    "print('Feliz ano novo 🎆')"
   ]
  },
  {
   "cell_type": "code",
   "execution_count": null,
   "metadata": {},
   "outputs": [],
   "source": [
    "texto = ''\n",
    "while texto != 'sair' :\n",
    "    texto = input('Digite seu nome (\"sair\" para terminar)')\n",
    "    print(f'Seja bem vindo, {texto}')"
   ]
  },
  {
   "cell_type": "code",
   "execution_count": null,
   "metadata": {},
   "outputs": [],
   "source": [
    "senha_senai = '12345'\n",
    "nr_tentativa = 0\n",
    "while True :\n",
    "    senha = input('Qual é a senha🤔? \"Desisto\" para sair🔒')\n",
    "    if senha == senha_senai :\n",
    "        print('Você hackeou a rede 👨‍💻')\n",
    "        break\n",
    "    elif senha == 'Desisto' :\n",
    "        break\n",
    "    else :\n",
    "        nr_tentativa = nr_tentativa + 1\n",
    "        if nr_tentativa == 3 :\n",
    "            print('Você eata preso⛓ tentando hackear a rede')\n",
    "            break\n",
    "    print('FIM')"
   ]
  },
  {
   "cell_type": "markdown",
   "metadata": {},
   "source": [
    "21/03/2024 - Revisão de while"
   ]
  },
  {
   "cell_type": "code",
   "execution_count": null,
   "metadata": {},
   "outputs": [],
   "source": [
    "resp = 'S'\n",
    "while resp == 'S' :\n",
    "    resp = input('Deseja continuar? [S/N]')\n",
    "print('FIM')"
   ]
  },
  {
   "cell_type": "code",
   "execution_count": null,
   "metadata": {},
   "outputs": [],
   "source": [
    "soma = 0\n",
    "qtde = 0\n",
    "while True :\n",
    "    valor = float(input('Digite o valor do produto [ -1 para encerrar]'))\n",
    "    if valor == -1 :\n",
    "        break\n",
    "    soma = valor + soma\n",
    "    qtde = qtde + 1\n",
    "print(F'Valor total R$ {soma:.2f} qtde produto {qtde}')"
   ]
  },
  {
   "cell_type": "code",
   "execution_count": null,
   "metadata": {},
   "outputs": [],
   "source": [
    "#Importando a bliblioteca de números aleatorios \n",
    "import random\n",
    "#Sorteando um número de 1 a 100\n",
    "nrSorteado = random.randint(1, 100)\n",
    "print('-=-=-=-=-=-=-=-=-=-=-=-=-=-=-=-=-=-=-=-=')\n",
    "print('       🤔 JOGO DA ADIVINHAÇÃO 🤔       ')\n",
    "print('-=-=-=-=-=-=-=-=-=-=-=-=-=-=-=-=-=-=-=-=')\n",
    "acertou = False\n",
    "while acertou == False :\n",
    "    chute = int(input('🕵️‍♀️ Digite um número entre 1 e 100:'))\n",
    "    if chute == nrSorteado :\n",
    "        print(f'Você chutou {chute}. Parabens você acertou 👏👏👏')\n",
    "        acertou = True\n",
    "    elif chute > nrSorteado :\n",
    "        print(f'Você chutou {chute}. Tente os número 👇')\n",
    "    else :\n",
    "        print(f'Você chutou {chute}. Tente um número 👆')\n",
    "        \n"
   ]
  },
  {
   "cell_type": "markdown",
   "metadata": {},
   "source": [
    "22/03/2024 - For"
   ]
  },
  {
   "cell_type": "code",
   "execution_count": null,
   "metadata": {},
   "outputs": [],
   "source": [
    "for x in range(10) :\n",
    "    x += 1\n",
    "    print(x)"
   ]
  },
  {
   "cell_type": "code",
   "execution_count": null,
   "metadata": {},
   "outputs": [],
   "source": [
    "print('Entregando os notebooks')\n",
    "for nr in range(32) :\n",
    "    nr = nr + 1\n",
    "    nome = input(f'Quem é o n° {nr}?')\n",
    "    presente = input(f'O(a) {nome} veio para a escola? [S/N]')\n",
    "    if presente == 'S' :\n",
    "        print(f'Pegar o notebook {nr}')\n",
    "        print(f'Pegar o mouse {nr}')\n",
    "        print(f'Levar o notebook até o(a) {nome}')\n",
    "    else :\n",
    "        print(f'Não pegar o notebook {nr}')\n",
    "print('Começar a aula')"
   ]
  },
  {
   "cell_type": "code",
   "execution_count": null,
   "metadata": {},
   "outputs": [],
   "source": [
    "for x in range(5, 30, 2) :\n",
    "    print(x)"
   ]
  },
  {
   "cell_type": "code",
   "execution_count": null,
   "metadata": {},
   "outputs": [],
   "source": [
    "n = int(input('Digite o nr:'))\n",
    "for x in range(11) :\n",
    "    print(f'{n} x {x} = {n*x}')"
   ]
  },
  {
   "cell_type": "code",
   "execution_count": null,
   "metadata": {},
   "outputs": [],
   "source": [
    "for letra in 'SESI/SENAI' :\n",
    "    print(letra)\n",
    "print('FIM')"
   ]
  },
  {
   "cell_type": "code",
   "execution_count": null,
   "metadata": {},
   "outputs": [],
   "source": [
    "for x in range(100) :\n",
    "    if x == 10 :\n",
    "        break\n",
    "    print(x)"
   ]
  },
  {
   "cell_type": "markdown",
   "metadata": {},
   "source": [
    "28/03/2024 - Variáveis Compostas - Vetores/Listas"
   ]
  },
  {
   "cell_type": "code",
   "execution_count": null,
   "metadata": {},
   "outputs": [],
   "source": [
    "frutas = ['Maça🍎', 'Banana🍌', 'Abacaxi🍍', 'Uva🍇']\n",
    "print(frutas)\n",
    "print(frutas[1])\n",
    "\n",
    "#Declaração de uma lista vazia\n",
    "lista_vazia = []\n",
    "\n",
    "#Declaração de uma lista de números\n",
    "numeros = [5, 8, 10, 40, 3]\n",
    "\n",
    "#Declaração de lista de strings\n",
    "nomes = ['Ana', 'João', 'Maria']\n",
    "\n",
    "#Declaração de lista mista\n",
    "lista_mista = [1, \"teste\", True, 3.5 ]"
   ]
  },
  {
   "cell_type": "code",
   "execution_count": null,
   "metadata": {},
   "outputs": [],
   "source": [
    "frutas = ['Maça🍎', 'Banana🍌', 'Abacaxi🍍', 'Uva🍇']\n",
    "#Alterando os dados de um item da lista\n",
    "frutas[3] = 'Melancia🍉'\n",
    "print(frutas)\n",
    "\n",
    "#Incluindo um novo item na final lista\n",
    "frutas.append('Laranja🍊')\n",
    "print(frutas)\n",
    "\n",
    "#Incluindo um novo item em uma posição especifica\n",
    "frutas.insert(2, 'Morango🍓')\n",
    "print(frutas)\n",
    "\n",
    "#Excluindo item da lista\n",
    "#del frutas[3]\n",
    "#frutas.pop(3)\n",
    "frutas.remove('Abacaxi🍍')\n",
    "#Exclui ultimo item da lista\n",
    "frutas.pop()\n",
    "print(frutas)"
   ]
  },
  {
   "cell_type": "code",
   "execution_count": null,
   "metadata": {},
   "outputs": [],
   "source": [
    "frutas = ['Maça🍎', 'Banana🍌', 'Morango🍓', 'Abacaxi🍍', 'Melancia🍉', 'Laranja🍊', 'Uva🍇']\n",
    "print(frutas[4])    #Posição especifica\n",
    "print(frutas[0:4])  #Da posição 0 pegar 4 itens\n",
    "print(frutas[1:])   #Da posição 1 até a ultima\n",
    "print(frutas[-1])   #Nr de itens do fim pro inicio\n",
    "print(len(frutas))  #Total de itens da lista \n",
    "\n",
    "frutas.sort()       #Ordenando a lista em ordem crescente\n",
    "print(frutas)\n",
    "frutas.reverse()    #Ordenando a lista em ordem decrescente\n",
    "print(frutas)"
   ]
  },
  {
   "cell_type": "markdown",
   "metadata": {},
   "source": [
    "Aula 04/04/2024 - Iteração em listas"
   ]
  },
  {
   "cell_type": "code",
   "execution_count": null,
   "metadata": {},
   "outputs": [],
   "source": [
    "#Criando uma lista de vogais\n",
    "vogais = ['a', 'e', 'i', 'o', 'u']\n",
    "consoantes = ['b', 'c', 'd', 'f', 'g', 'h', 'j', 'k', 'l', 'm', 'n', 'p', 'q', 'r', 's', 't', 'v', 'w', 'x', 'y', 'z']\n",
    "#Recebendo um caracter digitado pelo usuario\n",
    "letra = input('Informe um caractere')\n",
    "#O metodo .lower() deixa todas as letras digitadas como minusculo\n",
    "#O metodo .upper() deixa todas as letras digitadas como maiusculo\n",
    "#Lemos da seguinte forma\n",
    "#SE a letra em MINUSCULO ESTIVER na lista de vogais ENTÃO\n",
    "if letra.lower() in vogais :\n",
    "    print(f'{letra} é uma vogal')\n",
    "#elif sempre antes do else\n",
    "elif letra.lower() in consoantes :\n",
    "    print(f'{letra} é uma consoante')\n",
    "else :\n",
    "    print(f'{letra} não é uma letra')"
   ]
  },
  {
   "cell_type": "code",
   "execution_count": null,
   "metadata": {},
   "outputs": [],
   "source": [
    "listaNomes = ['Bem', 'Mal', 'Ivi', 'Carlos', 'Uma']\n",
    "for nome in listaNomes :\n",
    "    print(nome)"
   ]
  },
  {
   "cell_type": "code",
   "execution_count": null,
   "metadata": {},
   "outputs": [],
   "source": [
    "listanr = [4, 6, 5, 9]\n",
    "soma = 0\n",
    "for nr in listanr :\n",
    "    soma = soma + nr\n",
    "    print(soma)\n",
    "#Essa função que escrevemos "
   ]
  },
  {
   "cell_type": "code",
   "execution_count": null,
   "metadata": {},
   "outputs": [],
   "source": [
    "listaFrutas = ['Maça🍎', 'Banana🍌', 'Abacaxi🍍', 'Uva🍇']\n",
    "for pos, fruta in enumerate(listaFrutas) :\n",
    "    print(f'A fruta {fruta} está na posição {pos}')"
   ]
  },
  {
   "cell_type": "code",
   "execution_count": null,
   "metadata": {},
   "outputs": [],
   "source": [
    "produtos = 'Celular📱,Notebook💻,TV📺,Tablet📟,Headset🎧'\n",
    "listaProdutos = produtos.split(',')\n",
    "for produto in listaProdutos :\n",
    "    print(produto)"
   ]
  },
  {
   "cell_type": "code",
   "execution_count": null,
   "metadata": {},
   "outputs": [],
   "source": [
    "palavra = 'SENAI'\n",
    "for letra in palavra :\n",
    "        print(letra)"
   ]
  },
  {
   "cell_type": "code",
   "execution_count": null,
   "metadata": {},
   "outputs": [],
   "source": [
    "#Criando uma lista vazia\n",
    "listaComidas = []\n",
    "#Laço de repetição sem um de execução definido\n",
    "while True :\n",
    "    #Recebendo informação do usuario e armazenando em uma variavel\n",
    "    comida = input('Digite uma comida que você mais gosta:')\n",
    "    #Inserindo o valor da variavel no final da nossa lista\n",
    "    listaComidas.append(comida)\n",
    "    #Obtendo a resposta do usuario se deseja continuar\n",
    "    resp = input('Deseja continuar? [S/N]')\n",
    "    #Verificando condição da resposta dele, se for N ou n sair do laço\n",
    "    if resp in 'Nn' :\n",
    "        #Parando o laço de repetição while\n",
    "        break\n",
    "#Fora do while - apos finalizar sua executação e encontrar o break\n",
    "#Laço de repetição para exibir os itens e suas posições\n",
    "for pos, comida in enumerate(listaComidas) :\n",
    "    #Exibindo as variaveis de cada item da lista\n",
    "    print(f'{pos+1}° {comida}')"
   ]
  },
  {
   "cell_type": "markdown",
   "metadata": {},
   "source": [
    "11/04/2024 - Funções"
   ]
  },
  {
   "cell_type": "code",
   "execution_count": null,
   "metadata": {},
   "outputs": [],
   "source": [
    "print('-' * 20)\n",
    "print('SESI/SENAI')\n",
    "print('-' * 20)"
   ]
  },
  {
   "cell_type": "code",
   "execution_count": null,
   "metadata": {},
   "outputs": [],
   "source": [
    "def Linha() :\n",
    "    print('-' * 20)\n",
    "Linha()\n",
    "print('SESI/SENAI')\n",
    "Linha()"
   ]
  },
  {
   "cell_type": "code",
   "execution_count": null,
   "metadata": {},
   "outputs": [],
   "source": [
    "def Linha() :\n",
    "     print('-' * 20)\n",
    "def Cabecario() :\n",
    "    Linha()\n",
    "    print('SESI/SENAI')\n",
    "    Linha()\n",
    "Cabecario()"
   ]
  },
  {
   "cell_type": "code",
   "execution_count": null,
   "metadata": {},
   "outputs": [],
   "source": [
    "def Saudacao() :\n",
    "    nome = input('Digite nome:')\n",
    "    print(f'{nome} tenha um bom dia')\n",
    "Saudacao()\n",
    "Saudacao()\n",
    "Saudacao()"
   ]
  },
  {
   "cell_type": "code",
   "execution_count": null,
   "metadata": {},
   "outputs": [],
   "source": [
    "def Linha() :\n",
    "    print('-' * 40)\n",
    "def Cabecario(texto) :\n",
    "    Linha()\n",
    "    print(texto)\n",
    "    Linha()\n",
    "Cabecario('SESI')\n",
    "Cabecario('SENAI')\n",
    "Cabecario('ESCOLA')"
   ]
  },
  {
   "cell_type": "code",
   "execution_count": null,
   "metadata": {},
   "outputs": [],
   "source": [
    "def Soma(n1, n2) :\n",
    "    res = n1 + n2\n",
    "    print(f'A soma de {n1} + {n2} é {res}')\n",
    "Soma(10, 9)"
   ]
  },
  {
   "cell_type": "code",
   "execution_count": null,
   "metadata": {},
   "outputs": [],
   "source": [
    "def Parinpar(nr) :\n",
    "    if nr % 2 == 0 :\n",
    "        print(f'O número {nr} é par')\n",
    "    else :\n",
    "        print(f'O número {nr} é impar')\n",
    "Parinpar(9)\n",
    "Parinpar(10)"
   ]
  },
  {
   "cell_type": "code",
   "execution_count": null,
   "metadata": {},
   "outputs": [],
   "source": [
    "def Media(n1, n2) :\n",
    "    res = (n1 + n2) / 2 \n",
    "    return(res)\n",
    "#A variavel resultado_media recebe o retorno da função Media\n",
    "resultadp_media = Media(10, 8)\n",
    "print(resultadp_media)\n",
    "print(Media(10, 2))"
   ]
  },
  {
   "cell_type": "code",
   "execution_count": null,
   "metadata": {},
   "outputs": [],
   "source": [
    "def FormatarData(d, m, a) :\n",
    "    data = f'{d}/{m}/{a}'\n",
    "    return (data)\n",
    "print(FormatarData(25, 12, 1987))\n",
    "print(FormatarData(27, 2, 1989))"
   ]
  },
  {
   "cell_type": "markdown",
   "metadata": {},
   "source": [
    "12/04/2024 - Escopo de variáveis (Variável local e global)"
   ]
  },
  {
   "cell_type": "code",
   "execution_count": null,
   "metadata": {},
   "outputs": [],
   "source": [
    "def NomeEscola() :\n",
    "    escola = 'SESI'\n",
    "    print(escola)\n",
    "NomeEscola()"
   ]
  },
  {
   "cell_type": "code",
   "execution_count": null,
   "metadata": {},
   "outputs": [],
   "source": [
    "def NomeEscola() :\n",
    "    escola = 'SESI'\n",
    "    print(f'Valor dentro da função {escola}')\n",
    "escola = 'SENAI'\n",
    "print(f'Valor ANTES da função {escola}')\n",
    "NomeEscola()\n",
    "print(f'Valor DEPOIS da função {escola}')"
   ]
  },
  {
   "cell_type": "code",
   "execution_count": null,
   "metadata": {},
   "outputs": [],
   "source": [
    "def NomeEscola() :\n",
    "    #Caso eu queira atualizar o conteúdo da variável escola preciso escrever que ela é global\n",
    "    global escola\n",
    "escola = 'SESI' #Alterando o falor da variávem global\n",
    "print(f'Valor dentro da função {escola}')\n",
    "escola = 'SENAI'\n",
    "print(f'Valor ANTES da função {escola}')\n",
    "NomeEscola()\n",
    "print(f'Valor DEPOIS da função {escola}')"
   ]
  },
  {
   "cell_type": "code",
   "execution_count": null,
   "metadata": {},
   "outputs": [],
   "source": [
    "x = 10 # x é uma variável global\n",
    "#Podemos acessar x fora de uma função também\n",
    "print(f'Fora da função', x)\n",
    "def MinhaFuncao() :\n",
    "    x = 0 # <- variável local\n",
    "    x = x + 1 \n",
    "    print('Dentre da função', x)\n",
    "MinhaFuncao()\n",
    "print('Fora da função', x)"
   ]
  },
  {
   "cell_type": "code",
   "execution_count": null,
   "metadata": {},
   "outputs": [],
   "source": [
    "x = 10 # x é uma variável global\n",
    "#Podemos acessar x fora de uma função também\n",
    "print(f'Fora da função', x)\n",
    "def MinhaFuncao() :\n",
    "   '''\n",
    "       Aqui posso descrever a descrição do que faz a minha função\n",
    "   '''\n",
    "    global x #Dizendo que usaremos a variável x global\n",
    "    x = x + 1 \n",
    "    print('Dentre da função', x)\n",
    "MinhaFuncao()\n",
    "print('Fora da função', x)"
   ]
  }
 ],
 "metadata": {
  "kernelspec": {
   "display_name": "Python 3",
   "language": "python",
   "name": "python3"
  },
  "language_info": {
   "codemirror_mode": {
    "name": "ipython",
    "version": 3
   },
   "file_extension": ".py",
   "mimetype": "text/x-python",
   "name": "python",
   "nbconvert_exporter": "python",
   "pygments_lexer": "ipython3",
   "version": "3.12.3"
  }
 },
 "nbformat": 4,
 "nbformat_minor": 2
}
