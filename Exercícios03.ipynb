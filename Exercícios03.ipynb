{
 "cells": [
  {
   "cell_type": "markdown",
   "metadata": {},
   "source": [
    " 1. Pede ao usuário para digitar um número de 1 a 7 e imprime o dia da semana correspondente"
   ]
  },
  {
   "cell_type": "code",
   "execution_count": null,
   "metadata": {},
   "outputs": [],
   "source": [
    "#Correção do professor\n",
    "numero = int(input('digite um numero de 1 a 7'))\n",
    "match numero:\n",
    "    case 1:\n",
    "        print('domingo')\n",
    "    case 2:\n",
    "        print ('segunda')\n",
    "    case 3:\n",
    "        print ('terça')\n",
    "    case 4:\n",
    "        print ('quarta')\n",
    "    case 5:\n",
    "        print ('quinta')\n",
    "    case 6:\n",
    "        print ('sexta')\n",
    "    case 7:\n",
    "        print ('sabado')"
   ]
  },
  {
   "cell_type": "markdown",
   "metadata": {},
   "source": [
    "2. Pede ao usuário o ano atual e o ano de nascimento e verifique em qual faixa etária ele\n",
    "pertence considerando (abaixo de 10 é criança, de 11 a 17 adolescente, de 18 a 59 adulto,\n",
    "acima de 60 idoso)"
   ]
  },
  {
   "cell_type": "code",
   "execution_count": 5,
   "metadata": {},
   "outputs": [],
   "source": [
    "#Correção do professor\n",
    "ano1= int(input('digita o ano atual'))\n",
    "ano2 = int(input('digite o seu ano de nascimento'))\n",
    "subitracao = ano1- ano2 \n",
    "print (subitracao)\n",
    "if subitracao < 10:\n",
    "    print('você e criança')\n",
    "else:\n",
    "    if subitracao >= 11 and subitracao < 17:\n",
    "        print ('você e adolecente')\n",
    "    else:\n",
    "        if subitracao >= 18 and subitracao < 59:\n",
    "            print ('você e adulto')\n",
    "        else:\n",
    "            if subitracao >= 60:\n",
    "                print ('você e idoso')"
   ]
  },
  {
   "cell_type": "markdown",
   "metadata": {},
   "source": [
    "3. Pede ao usuário para digitar o nome de um mês e imprime o número de dias naquele mês"
   ]
  },
  {
   "cell_type": "code",
   "execution_count": null,
   "metadata": {},
   "outputs": [],
   "source": [
    "mes = input('Digite o nome do mês: ')\n",
    "match mes :\n",
    "    case 'janeiro' :\n",
    "        print(f'{mes} tem 31 dias')\n",
    "    case 'fevereiro' :\n",
    "        print(f'{mes} tem 28 ou 29 dias se for ano bissexto')\n",
    "    case 'março' :\n",
    "        print(f'{mes} tem 31 dias')\n",
    "    case 'abril' :\n",
    "        print(f'{mes} tem 30 dias')\n",
    "    case 'maio':\n",
    "        print(f'{mes} tem 31 dias')\n",
    "    case 'junho':\n",
    "        print(f'{mes} tem 30 dias')\n",
    "    case 'julho':\n",
    "        print(f'{mes} tem 31 dias')\n",
    "    case 'agosto':\n",
    "        print(f'{mes} tem 31 dias')\n",
    "    case 'setembro':\n",
    "        print(f'{mes} tem 30 dias')\n",
    "    case 'outubro':\n",
    "        print(f'{mes} tem 31 dias')\n",
    "    case 'novembro':\n",
    "        print(f'{mes} tem 30 dias')\n",
    "    case 'dezembro':\n",
    "        print(f'{mes} tem 31 dias')"
   ]
  },
  {
   "cell_type": "markdown",
   "metadata": {},
   "source": [
    "4. Pede ao usuário para digitar 2 notas e calcule sua média, e considere a média acima de 7\n",
    "aprovado, entre 5 e 7, em recuperação, abaixo de 5 reprovado"
   ]
  },
  {
   "cell_type": "code",
   "execution_count": 4,
   "metadata": {},
   "outputs": [],
   "source": [
    "nota1 = float(input('Digite a nota1: '))\n",
    "nota2 = float(input('Digite a nota2: '))\n",
    "media = (nota1 + nota2) / 2\n",
    "match media :\n",
    "    case 'aprovado':\n",
    "        print(f'{media >= 7} aprovado')\n",
    "    case 'aprovado':\n",
    "        print(f'{media == 7} aprovado')\n",
    "    case 'recuperação':\n",
    "        print(f'{media <= 7} recuperação')\n",
    "    case 'recuperação':\n",
    "        print(f'{media >= 5} recuperação')\n",
    "    case 'reprovado':\n",
    "         print(f'{media <= 5} reprovado') "
   ]
  },
  {
   "cell_type": "markdown",
   "metadata": {},
   "source": [
    "5. Pede o salário do funcionário, e calcular o aumento que ele terá, considerando se ganhar até\n",
    "2000, reajuste de 12%, até 4000, reajuste de 10%, acima de 4000 reajuste de 8%, exibir o\n",
    "novo salário"
   ]
  },
  {
   "cell_type": "code",
   "execution_count": null,
   "metadata": {},
   "outputs": [],
   "source": [
    "#Correção do professor\n",
    "salário = float(input(\"Digite o salário atual:\"))\n",
    "aumento12 = ((salário / 100) * 12 ) + salario \n",
    "aumento10 = ((salário / 100) * 10 ) + salario \n",
    "aumento8 = ((salário / 100) * 8 ) + salario \n",
    "if salario < 2000:\n",
    "    print(f'{aumento12}')\n",
    "elif salario >= 2000 and salario <= 4000:\n",
    "    print(f'{aumento10}')\n",
    "else :\n",
    "    print(f'{aumento8}')"
   ]
  }
 ],
 "metadata": {
  "kernelspec": {
   "display_name": "Python 3",
   "language": "python",
   "name": "python3"
  },
  "language_info": {
   "codemirror_mode": {
    "name": "ipython",
    "version": 3
   },
   "file_extension": ".py",
   "mimetype": "text/x-python",
   "name": "python",
   "nbconvert_exporter": "python",
   "pygments_lexer": "ipython3",
   "version": "3.12.3"
  }
 },
 "nbformat": 4,
 "nbformat_minor": 2
}
