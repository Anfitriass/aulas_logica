{
 "cells": [
  {
   "cell_type": "markdown",
   "metadata": {},
   "source": [
    "1. Utilizando o comando while, exiba todos os números pares, de 1 a 20."
   ]
  },
  {
   "cell_type": "code",
   "execution_count": null,
   "metadata": {},
   "outputs": [],
   "source": [
    "x = 1\n",
    "while x <= 20 :\n",
    "    if x % 2 == 0 :\n",
    "        print(f'O número {x} é par')\n",
    "    x = x + 1"
   ]
  },
  {
   "cell_type": "markdown",
   "metadata": {},
   "source": [
    "2. Gere os 6 números do sorteio da mega-sena de forma aleatória."
   ]
  },
  {
   "cell_type": "code",
   "execution_count": null,
   "metadata": {},
   "outputs": [],
   "source": [
    "import random\n",
    "x = 0\n",
    "while x <= 5 :\n",
    "    nrSorteado = random.randint(1, 60)\n",
    "    x = x + 1\n",
    "    print(f'{x}º número {nrSorteado}')"
   ]
  },
  {
   "cell_type": "code",
   "execution_count": null,
   "metadata": {},
   "outputs": [],
   "source": [
    "#Correção do professor\n",
    "import random\n",
    "x = 1\n",
    "while x <= 6 :\n",
    "    nr = random.randint(1,60)\n",
    "    print(nr)\n",
    "    x += 1 #Ou x += 1"
   ]
  },
  {
   "cell_type": "markdown",
   "metadata": {},
   "source": [
    "3. Receba alguns número e verifique a soma e a quantidade de todos os pares e ímpares\n",
    "digitados, digite 0 para não receber mais"
   ]
  },
  {
   "cell_type": "code",
   "execution_count": null,
   "metadata": {},
   "outputs": [],
   "source": [
    "#Correção do professor\n",
    "soma = 0\n",
    "qtdepar = 0\n",
    "qtdeimpar = 0\n",
    "while True :\n",
    "    nr = int(input('digite o valor. [0 para encerrar]'))\n",
    "    if nr == 0 :\n",
    "        break\n",
    "    if nr % 2 == 0 :\n",
    "        qtdepar += 1\n",
    "    if nr % 2 == 1 :\n",
    "        qtdeimpar += 1\n",
    "    soma += nr\n",
    "print(f'A soma é {soma} são {qtdepar} pares e {qtdeimpar} impares')"
   ]
  },
  {
   "cell_type": "markdown",
   "metadata": {},
   "source": [
    "4. Faça um programa em Python que leia 5 valores inteiros e:\n",
    "\n",
    "• Encontre e mostre o maior valor\n",
    "\n",
    "• Encontre e mostre o menor valor\n",
    "\n",
    "• Calcule e mostre a média dos números lidos"
   ]
  },
  {
   "cell_type": "code",
   "execution_count": null,
   "metadata": {},
   "outputs": [],
   "source": [
    "import random\n",
    "x = 1\n",
    "while x <= 5 :\n",
    "    nr = random.randint(1,60)\n",
    "    print(nr)\n",
    "    x += 1 #Ou x += 1"
   ]
  },
  {
   "cell_type": "markdown",
   "metadata": {},
   "source": [
    "5. Faça um programa que receba um número e mostre seu fatorial. Ex. :\n",
    "5! = 5 * 4 * 3 * 2 * 1 = 120"
   ]
  },
  {
   "cell_type": "code",
   "execution_count": null,
   "metadata": {},
   "outputs": [],
   "source": [
    "import random\n",
    "x = 0\n",
    "while x <= 0 :\n",
    "    n = random.randint(1, 60)\n",
    "    x = x + 1\n",
    "    print(f'O número é {n} e seu fatorial é')"
   ]
  },
  {
   "cell_type": "markdown",
   "metadata": {},
   "source": [
    "6. Crie um programa com um menu, onde irá receber 2 números, e pelo menu perguntar qual\n",
    "operação deseja realizar\n",
    "\n",
    "[1] Somar os números\n",
    "\n",
    "[2] Subtrair os números\n",
    "\n",
    "[3] Multiplicar os números\n",
    "\n",
    "[4] Dividir os números\n",
    "\n",
    "[5] Sair"
   ]
  },
  {
   "cell_type": "code",
   "execution_count": null,
   "metadata": {},
   "outputs": [],
   "source": [
    "#Correção do professor"
   ]
  },
  {
   "cell_type": "markdown",
   "metadata": {},
   "source": [
    "7. Crie um sistema bancário, onde começo recebendo o nome do cliente e seu saldo zerado, crie\n",
    "as opções em um menu onde posso, depositar um valor, sacar um valor, consultar o saldo ou\n",
    "sair\n",
    "\n",
    "[1] Depositar\n",
    "\n",
    "[2] Sacar\n",
    "\n",
    "[3] Consultar Saldo\n",
    "\n",
    "[4] Sair"
   ]
  },
  {
   "cell_type": "code",
   "execution_count": null,
   "metadata": {},
   "outputs": [],
   "source": [
    "#Correção do professor"
   ]
  },
  {
   "cell_type": "markdown",
   "metadata": {},
   "source": [
    "Desafio\n",
    "\n",
    "Crie o jogo Jokenpo (✊, 🖐, ✌ ), onde o computador irá sortear entre pedra, papel e\n",
    "tesoura, e o jogador terá que escolher sua opção, jogar até o usuário digitar SAIR, ao\n",
    "sair, exibir quantas vezes cada um ganhou"
   ]
  },
  {
   "cell_type": "code",
   "execution_count": null,
   "metadata": {},
   "outputs": [],
   "source": [
    "#Correção do professor"
   ]
  }
 ],
 "metadata": {
  "kernelspec": {
   "display_name": "Python 3",
   "language": "python",
   "name": "python3"
  },
  "language_info": {
   "codemirror_mode": {
    "name": "ipython",
    "version": 3
   },
   "file_extension": ".py",
   "mimetype": "text/x-python",
   "name": "python",
   "nbconvert_exporter": "python",
   "pygments_lexer": "ipython3",
   "version": "3.12.3"
  }
 },
 "nbformat": 4,
 "nbformat_minor": 2
}
